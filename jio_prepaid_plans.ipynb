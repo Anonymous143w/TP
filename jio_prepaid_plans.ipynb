{
  "cells": [
    {
      "cell_type": "markdown",
      "metadata": {
        "id": "view-in-github",
        "colab_type": "text"
      },
      "source": [
        "<a href=\"https://colab.research.google.com/github/Anonymous143w/TP/blob/main/jio_prepaid_plans.ipynb\" target=\"_parent\"><img src=\"https://colab.research.google.com/assets/colab-badge.svg\" alt=\"Open In Colab\"/></a>"
      ]
    },
    {
      "cell_type": "code",
      "execution_count": 43,
      "id": "2dcc949f",
      "metadata": {
        "_cell_guid": "b1076dfc-b9ad-4769-8c92-a6c4dae69d19",
        "_uuid": "8f2839f25d086af736a60e9eeb907d3b93b6e0e5",
        "execution": {
          "iopub.execute_input": "2022-07-06T03:03:23.698585Z",
          "iopub.status.busy": "2022-07-06T03:03:23.697852Z",
          "iopub.status.idle": "2022-07-06T03:03:23.724252Z",
          "shell.execute_reply": "2022-07-06T03:03:23.722677Z"
        },
        "papermill": {
          "duration": 0.042715,
          "end_time": "2022-07-06T03:03:23.728243",
          "exception": false,
          "start_time": "2022-07-06T03:03:23.685528",
          "status": "completed"
        },
        "tags": [],
        "id": "2dcc949f"
      },
      "outputs": [],
      "source": [
        "import numpy as np\n",
        "import pandas as pd"
      ]
    },
    {
      "cell_type": "markdown",
      "id": "ce95dac7",
      "metadata": {
        "papermill": {
          "duration": 0.009227,
          "end_time": "2022-07-06T03:03:23.766898",
          "exception": false,
          "start_time": "2022-07-06T03:03:23.757671",
          "status": "completed"
        },
        "tags": [],
        "id": "ce95dac7"
      },
      "source": [
        "> This dataset covers various plans that Reliance Jio Prepaid offers to its customers. Based upon that the dataset has following columns.\n",
        "\n",
        "> Days - Includes number of days a plan offers\n",
        "\n",
        "> Price - Includes price for the offered day\n",
        "\n",
        "> Price/Day - How much price does customer conquer in a day\n",
        "\n",
        "> For 365 Days - Price for 365 days\n",
        "\n",
        "> Profit per customer - How much profit does jio makes per customer\n",
        "\n",
        "> From 400 Million users - Profit from 400M users\n",
        "\n",
        "> Data_per_day - Amount of data they provide to user per day according to the plan."
      ]
    },
    {
      "cell_type": "code",
      "execution_count": null,
      "id": "d8b7a92b",
      "metadata": {
        "execution": {
          "iopub.execute_input": "2022-07-06T03:03:23.808296Z",
          "iopub.status.busy": "2022-07-06T03:03:23.807340Z",
          "iopub.status.idle": "2022-07-06T03:03:23.839513Z",
          "shell.execute_reply": "2022-07-06T03:03:23.838410Z"
        },
        "papermill": {
          "duration": 0.045244,
          "end_time": "2022-07-06T03:03:23.841870",
          "exception": false,
          "start_time": "2022-07-06T03:03:23.796626",
          "status": "completed"
        },
        "tags": [],
        "colab": {
          "base_uri": "https://localhost:8080/",
          "height": 241
        },
        "id": "d8b7a92b",
        "outputId": "7de8c0a8-93c0-4913-b086-fc1dda2c65b1"
      },
      "outputs": [
        {
          "output_type": "execute_result",
          "data": {
            "text/plain": [
              "   Days  Price  Price/Day  For 365 Days  Profit per customer  \\\n",
              "0    28    209   7.464286   2724.464286             5.214286   \n",
              "1    24    179   7.458333   2722.291667             3.041667   \n",
              "2    20    149   7.450000   2719.250000             0.000000   \n",
              "3   336   2545   7.574405   2764.657738             0.000000   \n",
              "4    84    666   7.928571   2893.928571           129.270833   \n",
              "\n",
              "   From 400 Million users  Data_per_day  \n",
              "0             2085.714286           1.0  \n",
              "1             1216.666667           1.0  \n",
              "2                0.000000           1.0  \n",
              "3                0.000000           1.5  \n",
              "4            51708.333330           1.5  "
            ],
            "text/html": [
              "\n",
              "  <div id=\"df-cda0775b-5ce7-4ac2-95db-b7c292ac5f82\" class=\"colab-df-container\">\n",
              "    <div>\n",
              "<style scoped>\n",
              "    .dataframe tbody tr th:only-of-type {\n",
              "        vertical-align: middle;\n",
              "    }\n",
              "\n",
              "    .dataframe tbody tr th {\n",
              "        vertical-align: top;\n",
              "    }\n",
              "\n",
              "    .dataframe thead th {\n",
              "        text-align: right;\n",
              "    }\n",
              "</style>\n",
              "<table border=\"1\" class=\"dataframe\">\n",
              "  <thead>\n",
              "    <tr style=\"text-align: right;\">\n",
              "      <th></th>\n",
              "      <th>Days</th>\n",
              "      <th>Price</th>\n",
              "      <th>Price/Day</th>\n",
              "      <th>For 365 Days</th>\n",
              "      <th>Profit per customer</th>\n",
              "      <th>From 400 Million users</th>\n",
              "      <th>Data_per_day</th>\n",
              "    </tr>\n",
              "  </thead>\n",
              "  <tbody>\n",
              "    <tr>\n",
              "      <th>0</th>\n",
              "      <td>28</td>\n",
              "      <td>209</td>\n",
              "      <td>7.464286</td>\n",
              "      <td>2724.464286</td>\n",
              "      <td>5.214286</td>\n",
              "      <td>2085.714286</td>\n",
              "      <td>1.0</td>\n",
              "    </tr>\n",
              "    <tr>\n",
              "      <th>1</th>\n",
              "      <td>24</td>\n",
              "      <td>179</td>\n",
              "      <td>7.458333</td>\n",
              "      <td>2722.291667</td>\n",
              "      <td>3.041667</td>\n",
              "      <td>1216.666667</td>\n",
              "      <td>1.0</td>\n",
              "    </tr>\n",
              "    <tr>\n",
              "      <th>2</th>\n",
              "      <td>20</td>\n",
              "      <td>149</td>\n",
              "      <td>7.450000</td>\n",
              "      <td>2719.250000</td>\n",
              "      <td>0.000000</td>\n",
              "      <td>0.000000</td>\n",
              "      <td>1.0</td>\n",
              "    </tr>\n",
              "    <tr>\n",
              "      <th>3</th>\n",
              "      <td>336</td>\n",
              "      <td>2545</td>\n",
              "      <td>7.574405</td>\n",
              "      <td>2764.657738</td>\n",
              "      <td>0.000000</td>\n",
              "      <td>0.000000</td>\n",
              "      <td>1.5</td>\n",
              "    </tr>\n",
              "    <tr>\n",
              "      <th>4</th>\n",
              "      <td>84</td>\n",
              "      <td>666</td>\n",
              "      <td>7.928571</td>\n",
              "      <td>2893.928571</td>\n",
              "      <td>129.270833</td>\n",
              "      <td>51708.333330</td>\n",
              "      <td>1.5</td>\n",
              "    </tr>\n",
              "  </tbody>\n",
              "</table>\n",
              "</div>\n",
              "    <div class=\"colab-df-buttons\">\n",
              "\n",
              "  <div class=\"colab-df-container\">\n",
              "    <button class=\"colab-df-convert\" onclick=\"convertToInteractive('df-cda0775b-5ce7-4ac2-95db-b7c292ac5f82')\"\n",
              "            title=\"Convert this dataframe to an interactive table.\"\n",
              "            style=\"display:none;\">\n",
              "\n",
              "  <svg xmlns=\"http://www.w3.org/2000/svg\" height=\"24px\" viewBox=\"0 -960 960 960\">\n",
              "    <path d=\"M120-120v-720h720v720H120Zm60-500h600v-160H180v160Zm220 220h160v-160H400v160Zm0 220h160v-160H400v160ZM180-400h160v-160H180v160Zm440 0h160v-160H620v160ZM180-180h160v-160H180v160Zm440 0h160v-160H620v160Z\"/>\n",
              "  </svg>\n",
              "    </button>\n",
              "\n",
              "  <style>\n",
              "    .colab-df-container {\n",
              "      display:flex;\n",
              "      gap: 12px;\n",
              "    }\n",
              "\n",
              "    .colab-df-convert {\n",
              "      background-color: #E8F0FE;\n",
              "      border: none;\n",
              "      border-radius: 50%;\n",
              "      cursor: pointer;\n",
              "      display: none;\n",
              "      fill: #1967D2;\n",
              "      height: 32px;\n",
              "      padding: 0 0 0 0;\n",
              "      width: 32px;\n",
              "    }\n",
              "\n",
              "    .colab-df-convert:hover {\n",
              "      background-color: #E2EBFA;\n",
              "      box-shadow: 0px 1px 2px rgba(60, 64, 67, 0.3), 0px 1px 3px 1px rgba(60, 64, 67, 0.15);\n",
              "      fill: #174EA6;\n",
              "    }\n",
              "\n",
              "    .colab-df-buttons div {\n",
              "      margin-bottom: 4px;\n",
              "    }\n",
              "\n",
              "    [theme=dark] .colab-df-convert {\n",
              "      background-color: #3B4455;\n",
              "      fill: #D2E3FC;\n",
              "    }\n",
              "\n",
              "    [theme=dark] .colab-df-convert:hover {\n",
              "      background-color: #434B5C;\n",
              "      box-shadow: 0px 1px 3px 1px rgba(0, 0, 0, 0.15);\n",
              "      filter: drop-shadow(0px 1px 2px rgba(0, 0, 0, 0.3));\n",
              "      fill: #FFFFFF;\n",
              "    }\n",
              "  </style>\n",
              "\n",
              "    <script>\n",
              "      const buttonEl =\n",
              "        document.querySelector('#df-cda0775b-5ce7-4ac2-95db-b7c292ac5f82 button.colab-df-convert');\n",
              "      buttonEl.style.display =\n",
              "        google.colab.kernel.accessAllowed ? 'block' : 'none';\n",
              "\n",
              "      async function convertToInteractive(key) {\n",
              "        const element = document.querySelector('#df-cda0775b-5ce7-4ac2-95db-b7c292ac5f82');\n",
              "        const dataTable =\n",
              "          await google.colab.kernel.invokeFunction('convertToInteractive',\n",
              "                                                    [key], {});\n",
              "        if (!dataTable) return;\n",
              "\n",
              "        const docLinkHtml = 'Like what you see? Visit the ' +\n",
              "          '<a target=\"_blank\" href=https://colab.research.google.com/notebooks/data_table.ipynb>data table notebook</a>'\n",
              "          + ' to learn more about interactive tables.';\n",
              "        element.innerHTML = '';\n",
              "        dataTable['output_type'] = 'display_data';\n",
              "        await google.colab.output.renderOutput(dataTable, element);\n",
              "        const docLink = document.createElement('div');\n",
              "        docLink.innerHTML = docLinkHtml;\n",
              "        element.appendChild(docLink);\n",
              "      }\n",
              "    </script>\n",
              "  </div>\n",
              "\n",
              "\n",
              "<div id=\"df-bd9d9a6a-acf0-4377-a6b0-227e9c55c547\">\n",
              "  <button class=\"colab-df-quickchart\" onclick=\"quickchart('df-bd9d9a6a-acf0-4377-a6b0-227e9c55c547')\"\n",
              "            title=\"Suggest charts\"\n",
              "            style=\"display:none;\">\n",
              "\n",
              "<svg xmlns=\"http://www.w3.org/2000/svg\" height=\"24px\"viewBox=\"0 0 24 24\"\n",
              "     width=\"24px\">\n",
              "    <g>\n",
              "        <path d=\"M19 3H5c-1.1 0-2 .9-2 2v14c0 1.1.9 2 2 2h14c1.1 0 2-.9 2-2V5c0-1.1-.9-2-2-2zM9 17H7v-7h2v7zm4 0h-2V7h2v10zm4 0h-2v-4h2v4z\"/>\n",
              "    </g>\n",
              "</svg>\n",
              "  </button>\n",
              "\n",
              "<style>\n",
              "  .colab-df-quickchart {\n",
              "      --bg-color: #E8F0FE;\n",
              "      --fill-color: #1967D2;\n",
              "      --hover-bg-color: #E2EBFA;\n",
              "      --hover-fill-color: #174EA6;\n",
              "      --disabled-fill-color: #AAA;\n",
              "      --disabled-bg-color: #DDD;\n",
              "  }\n",
              "\n",
              "  [theme=dark] .colab-df-quickchart {\n",
              "      --bg-color: #3B4455;\n",
              "      --fill-color: #D2E3FC;\n",
              "      --hover-bg-color: #434B5C;\n",
              "      --hover-fill-color: #FFFFFF;\n",
              "      --disabled-bg-color: #3B4455;\n",
              "      --disabled-fill-color: #666;\n",
              "  }\n",
              "\n",
              "  .colab-df-quickchart {\n",
              "    background-color: var(--bg-color);\n",
              "    border: none;\n",
              "    border-radius: 50%;\n",
              "    cursor: pointer;\n",
              "    display: none;\n",
              "    fill: var(--fill-color);\n",
              "    height: 32px;\n",
              "    padding: 0;\n",
              "    width: 32px;\n",
              "  }\n",
              "\n",
              "  .colab-df-quickchart:hover {\n",
              "    background-color: var(--hover-bg-color);\n",
              "    box-shadow: 0 1px 2px rgba(60, 64, 67, 0.3), 0 1px 3px 1px rgba(60, 64, 67, 0.15);\n",
              "    fill: var(--button-hover-fill-color);\n",
              "  }\n",
              "\n",
              "  .colab-df-quickchart-complete:disabled,\n",
              "  .colab-df-quickchart-complete:disabled:hover {\n",
              "    background-color: var(--disabled-bg-color);\n",
              "    fill: var(--disabled-fill-color);\n",
              "    box-shadow: none;\n",
              "  }\n",
              "\n",
              "  .colab-df-spinner {\n",
              "    border: 2px solid var(--fill-color);\n",
              "    border-color: transparent;\n",
              "    border-bottom-color: var(--fill-color);\n",
              "    animation:\n",
              "      spin 1s steps(1) infinite;\n",
              "  }\n",
              "\n",
              "  @keyframes spin {\n",
              "    0% {\n",
              "      border-color: transparent;\n",
              "      border-bottom-color: var(--fill-color);\n",
              "      border-left-color: var(--fill-color);\n",
              "    }\n",
              "    20% {\n",
              "      border-color: transparent;\n",
              "      border-left-color: var(--fill-color);\n",
              "      border-top-color: var(--fill-color);\n",
              "    }\n",
              "    30% {\n",
              "      border-color: transparent;\n",
              "      border-left-color: var(--fill-color);\n",
              "      border-top-color: var(--fill-color);\n",
              "      border-right-color: var(--fill-color);\n",
              "    }\n",
              "    40% {\n",
              "      border-color: transparent;\n",
              "      border-right-color: var(--fill-color);\n",
              "      border-top-color: var(--fill-color);\n",
              "    }\n",
              "    60% {\n",
              "      border-color: transparent;\n",
              "      border-right-color: var(--fill-color);\n",
              "    }\n",
              "    80% {\n",
              "      border-color: transparent;\n",
              "      border-right-color: var(--fill-color);\n",
              "      border-bottom-color: var(--fill-color);\n",
              "    }\n",
              "    90% {\n",
              "      border-color: transparent;\n",
              "      border-bottom-color: var(--fill-color);\n",
              "    }\n",
              "  }\n",
              "</style>\n",
              "\n",
              "  <script>\n",
              "    async function quickchart(key) {\n",
              "      const quickchartButtonEl =\n",
              "        document.querySelector('#' + key + ' button');\n",
              "      quickchartButtonEl.disabled = true;  // To prevent multiple clicks.\n",
              "      quickchartButtonEl.classList.add('colab-df-spinner');\n",
              "      try {\n",
              "        const charts = await google.colab.kernel.invokeFunction(\n",
              "            'suggestCharts', [key], {});\n",
              "      } catch (error) {\n",
              "        console.error('Error during call to suggestCharts:', error);\n",
              "      }\n",
              "      quickchartButtonEl.classList.remove('colab-df-spinner');\n",
              "      quickchartButtonEl.classList.add('colab-df-quickchart-complete');\n",
              "    }\n",
              "    (() => {\n",
              "      let quickchartButtonEl =\n",
              "        document.querySelector('#df-bd9d9a6a-acf0-4377-a6b0-227e9c55c547 button');\n",
              "      quickchartButtonEl.style.display =\n",
              "        google.colab.kernel.accessAllowed ? 'block' : 'none';\n",
              "    })();\n",
              "  </script>\n",
              "</div>\n",
              "\n",
              "    </div>\n",
              "  </div>\n"
            ],
            "application/vnd.google.colaboratory.intrinsic+json": {
              "type": "dataframe",
              "variable_name": "df",
              "summary": "{\n  \"name\": \"df\",\n  \"rows\": 16,\n  \"fields\": [\n    {\n      \"column\": \"Days\",\n      \"properties\": {\n        \"dtype\": \"number\",\n        \"std\": 109,\n        \"min\": 14,\n        \"max\": 365,\n        \"num_unique_values\": 10,\n        \"samples\": [\n          14,\n          24,\n          56\n        ],\n        \"semantic_type\": \"\",\n        \"description\": \"\"\n      }\n    },\n    {\n      \"column\": \"Price\",\n      \"properties\": {\n        \"dtype\": \"number\",\n        \"std\": 845,\n        \"min\": 119,\n        \"max\": 2879,\n        \"num_unique_values\": 16,\n        \"samples\": [\n          209,\n          179,\n          479\n        ],\n        \"semantic_type\": \"\",\n        \"description\": \"\"\n      }\n    },\n    {\n      \"column\": \"Price/Day\",\n      \"properties\": {\n        \"dtype\": \"number\",\n        \"std\": 2.3206583805288337,\n        \"min\": 7.45,\n        \"max\": 14.96428571,\n        \"num_unique_values\": 16,\n        \"samples\": [\n          7.464285714,\n          7.458333333,\n          8.553571429\n        ],\n        \"semantic_type\": \"\",\n        \"description\": \"\"\n      }\n    },\n    {\n      \"column\": \"For 365 Days\",\n      \"properties\": {\n        \"dtype\": \"number\",\n        \"std\": 847.0403092689616,\n        \"min\": 2719.25,\n        \"max\": 5461.964286,\n        \"num_unique_values\": 16,\n        \"samples\": [\n          2724.464286,\n          2722.291667,\n          3122.053571\n        ],\n        \"semantic_type\": \"\",\n        \"description\": \"\"\n      }\n    },\n    {\n      \"column\": \"Profit per customer\",\n      \"properties\": {\n        \"dtype\": \"number\",\n        \"std\": 345.4204616968582,\n        \"min\": 0.0,\n        \"max\": 1072.521739,\n        \"num_unique_values\": 13,\n        \"samples\": [\n          1072.521739,\n          595.0178571,\n          5.214285714\n        ],\n        \"semantic_type\": \"\",\n        \"description\": \"\"\n      }\n    },\n    {\n      \"column\": \"From 400 Million users\",\n      \"properties\": {\n        \"dtype\": \"number\",\n        \"std\": 138168.18472392694,\n        \"min\": 0.0,\n        \"max\": 429008.6957,\n        \"num_unique_values\": 13,\n        \"samples\": [\n          429008.6957,\n          238007.1429,\n          2085.714286\n        ],\n        \"semantic_type\": \"\",\n        \"description\": \"\"\n      }\n    },\n    {\n      \"column\": \"Data_per_day\",\n      \"properties\": {\n        \"dtype\": \"number\",\n        \"std\": 0.6046693311223912,\n        \"min\": 1.0,\n        \"max\": 3.0,\n        \"num_unique_values\": 4,\n        \"samples\": [\n          1.5,\n          3.0,\n          1.0\n        ],\n        \"semantic_type\": \"\",\n        \"description\": \"\"\n      }\n    }\n  ]\n}"
            }
          },
          "metadata": {},
          "execution_count": 26
        }
      ],
      "source": [
        "df = pd.read_csv('/content/Jio - Jio Prepaid Planes.csv')\n",
        "df.head()"
      ]
    },
    {
      "cell_type": "code",
      "execution_count": null,
      "id": "9a823f03",
      "metadata": {
        "execution": {
          "iopub.execute_input": "2022-07-06T03:03:23.863207Z",
          "iopub.status.busy": "2022-07-06T03:03:23.862851Z",
          "iopub.status.idle": "2022-07-06T03:03:23.887808Z",
          "shell.execute_reply": "2022-07-06T03:03:23.886523Z"
        },
        "papermill": {
          "duration": 0.038867,
          "end_time": "2022-07-06T03:03:23.890417",
          "exception": false,
          "start_time": "2022-07-06T03:03:23.851550",
          "status": "completed"
        },
        "tags": [],
        "colab": {
          "base_uri": "https://localhost:8080/"
        },
        "id": "9a823f03",
        "outputId": "339d4d97-bf5d-4cb2-ee9b-1e35673bf165"
      },
      "outputs": [
        {
          "output_type": "stream",
          "name": "stdout",
          "text": [
            "<class 'pandas.core.frame.DataFrame'>\n",
            "RangeIndex: 16 entries, 0 to 15\n",
            "Data columns (total 7 columns):\n",
            " #   Column                  Non-Null Count  Dtype  \n",
            "---  ------                  --------------  -----  \n",
            " 0   Days                    16 non-null     int64  \n",
            " 1   Price                   16 non-null     int64  \n",
            " 2   Price/Day               16 non-null     float64\n",
            " 3   For 365 Days            16 non-null     float64\n",
            " 4   Profit per customer     16 non-null     float64\n",
            " 5   From 400 Million users  16 non-null     float64\n",
            " 6   Data_per_day            16 non-null     float64\n",
            "dtypes: float64(5), int64(2)\n",
            "memory usage: 1.0 KB\n"
          ]
        }
      ],
      "source": [
        "df.info()"
      ]
    },
    {
      "cell_type": "code",
      "execution_count": null,
      "id": "0bb73bb2",
      "metadata": {
        "execution": {
          "iopub.execute_input": "2022-07-06T03:03:23.911916Z",
          "iopub.status.busy": "2022-07-06T03:03:23.911253Z",
          "iopub.status.idle": "2022-07-06T03:03:23.945077Z",
          "shell.execute_reply": "2022-07-06T03:03:23.944263Z"
        },
        "papermill": {
          "duration": 0.047813,
          "end_time": "2022-07-06T03:03:23.947688",
          "exception": false,
          "start_time": "2022-07-06T03:03:23.899875",
          "status": "completed"
        },
        "tags": [],
        "colab": {
          "base_uri": "https://localhost:8080/",
          "height": 355
        },
        "id": "0bb73bb2",
        "outputId": "beadda84-c189-4844-da9b-cadbfe646c7b"
      },
      "outputs": [
        {
          "output_type": "execute_result",
          "data": {
            "text/plain": [
              "             Days        Price  Price/Day  For 365 Days  Profit per customer  \\\n",
              "count   16.000000    16.000000  16.000000     16.000000            16.000000   \n",
              "mean    76.687500   663.812500   9.306167   3396.750914           306.361219   \n",
              "std    109.140716   845.097645   2.320658    847.040309           345.420462   \n",
              "min     14.000000   119.000000   7.450000   2719.250000             0.000000   \n",
              "25%     23.750000   206.500000   7.809355   2850.414434             2.281250   \n",
              "50%     28.000000   279.000000   8.544643   3118.794643           294.933036   \n",
              "75%     63.000000   566.250000   9.808036   3579.933035           388.228132   \n",
              "max    365.000000  2879.000000  14.964286   5461.964286          1072.521739   \n",
              "\n",
              "       From 400 Million users  Data_per_day  \n",
              "count               16.000000     16.000000  \n",
              "mean            122544.487586      1.718750  \n",
              "std             138168.184724      0.604669  \n",
              "min                  0.000000      1.000000  \n",
              "25%                912.500000      1.500000  \n",
              "50%             117973.214300      1.500000  \n",
              "75%             155291.252575      2.000000  \n",
              "max             429008.695700      3.000000  "
            ],
            "text/html": [
              "\n",
              "  <div id=\"df-970b03d5-3484-4967-8997-4e30c3fe95a7\" class=\"colab-df-container\">\n",
              "    <div>\n",
              "<style scoped>\n",
              "    .dataframe tbody tr th:only-of-type {\n",
              "        vertical-align: middle;\n",
              "    }\n",
              "\n",
              "    .dataframe tbody tr th {\n",
              "        vertical-align: top;\n",
              "    }\n",
              "\n",
              "    .dataframe thead th {\n",
              "        text-align: right;\n",
              "    }\n",
              "</style>\n",
              "<table border=\"1\" class=\"dataframe\">\n",
              "  <thead>\n",
              "    <tr style=\"text-align: right;\">\n",
              "      <th></th>\n",
              "      <th>Days</th>\n",
              "      <th>Price</th>\n",
              "      <th>Price/Day</th>\n",
              "      <th>For 365 Days</th>\n",
              "      <th>Profit per customer</th>\n",
              "      <th>From 400 Million users</th>\n",
              "      <th>Data_per_day</th>\n",
              "    </tr>\n",
              "  </thead>\n",
              "  <tbody>\n",
              "    <tr>\n",
              "      <th>count</th>\n",
              "      <td>16.000000</td>\n",
              "      <td>16.000000</td>\n",
              "      <td>16.000000</td>\n",
              "      <td>16.000000</td>\n",
              "      <td>16.000000</td>\n",
              "      <td>16.000000</td>\n",
              "      <td>16.000000</td>\n",
              "    </tr>\n",
              "    <tr>\n",
              "      <th>mean</th>\n",
              "      <td>76.687500</td>\n",
              "      <td>663.812500</td>\n",
              "      <td>9.306167</td>\n",
              "      <td>3396.750914</td>\n",
              "      <td>306.361219</td>\n",
              "      <td>122544.487586</td>\n",
              "      <td>1.718750</td>\n",
              "    </tr>\n",
              "    <tr>\n",
              "      <th>std</th>\n",
              "      <td>109.140716</td>\n",
              "      <td>845.097645</td>\n",
              "      <td>2.320658</td>\n",
              "      <td>847.040309</td>\n",
              "      <td>345.420462</td>\n",
              "      <td>138168.184724</td>\n",
              "      <td>0.604669</td>\n",
              "    </tr>\n",
              "    <tr>\n",
              "      <th>min</th>\n",
              "      <td>14.000000</td>\n",
              "      <td>119.000000</td>\n",
              "      <td>7.450000</td>\n",
              "      <td>2719.250000</td>\n",
              "      <td>0.000000</td>\n",
              "      <td>0.000000</td>\n",
              "      <td>1.000000</td>\n",
              "    </tr>\n",
              "    <tr>\n",
              "      <th>25%</th>\n",
              "      <td>23.750000</td>\n",
              "      <td>206.500000</td>\n",
              "      <td>7.809355</td>\n",
              "      <td>2850.414434</td>\n",
              "      <td>2.281250</td>\n",
              "      <td>912.500000</td>\n",
              "      <td>1.500000</td>\n",
              "    </tr>\n",
              "    <tr>\n",
              "      <th>50%</th>\n",
              "      <td>28.000000</td>\n",
              "      <td>279.000000</td>\n",
              "      <td>8.544643</td>\n",
              "      <td>3118.794643</td>\n",
              "      <td>294.933036</td>\n",
              "      <td>117973.214300</td>\n",
              "      <td>1.500000</td>\n",
              "    </tr>\n",
              "    <tr>\n",
              "      <th>75%</th>\n",
              "      <td>63.000000</td>\n",
              "      <td>566.250000</td>\n",
              "      <td>9.808036</td>\n",
              "      <td>3579.933035</td>\n",
              "      <td>388.228132</td>\n",
              "      <td>155291.252575</td>\n",
              "      <td>2.000000</td>\n",
              "    </tr>\n",
              "    <tr>\n",
              "      <th>max</th>\n",
              "      <td>365.000000</td>\n",
              "      <td>2879.000000</td>\n",
              "      <td>14.964286</td>\n",
              "      <td>5461.964286</td>\n",
              "      <td>1072.521739</td>\n",
              "      <td>429008.695700</td>\n",
              "      <td>3.000000</td>\n",
              "    </tr>\n",
              "  </tbody>\n",
              "</table>\n",
              "</div>\n",
              "    <div class=\"colab-df-buttons\">\n",
              "\n",
              "  <div class=\"colab-df-container\">\n",
              "    <button class=\"colab-df-convert\" onclick=\"convertToInteractive('df-970b03d5-3484-4967-8997-4e30c3fe95a7')\"\n",
              "            title=\"Convert this dataframe to an interactive table.\"\n",
              "            style=\"display:none;\">\n",
              "\n",
              "  <svg xmlns=\"http://www.w3.org/2000/svg\" height=\"24px\" viewBox=\"0 -960 960 960\">\n",
              "    <path d=\"M120-120v-720h720v720H120Zm60-500h600v-160H180v160Zm220 220h160v-160H400v160Zm0 220h160v-160H400v160ZM180-400h160v-160H180v160Zm440 0h160v-160H620v160ZM180-180h160v-160H180v160Zm440 0h160v-160H620v160Z\"/>\n",
              "  </svg>\n",
              "    </button>\n",
              "\n",
              "  <style>\n",
              "    .colab-df-container {\n",
              "      display:flex;\n",
              "      gap: 12px;\n",
              "    }\n",
              "\n",
              "    .colab-df-convert {\n",
              "      background-color: #E8F0FE;\n",
              "      border: none;\n",
              "      border-radius: 50%;\n",
              "      cursor: pointer;\n",
              "      display: none;\n",
              "      fill: #1967D2;\n",
              "      height: 32px;\n",
              "      padding: 0 0 0 0;\n",
              "      width: 32px;\n",
              "    }\n",
              "\n",
              "    .colab-df-convert:hover {\n",
              "      background-color: #E2EBFA;\n",
              "      box-shadow: 0px 1px 2px rgba(60, 64, 67, 0.3), 0px 1px 3px 1px rgba(60, 64, 67, 0.15);\n",
              "      fill: #174EA6;\n",
              "    }\n",
              "\n",
              "    .colab-df-buttons div {\n",
              "      margin-bottom: 4px;\n",
              "    }\n",
              "\n",
              "    [theme=dark] .colab-df-convert {\n",
              "      background-color: #3B4455;\n",
              "      fill: #D2E3FC;\n",
              "    }\n",
              "\n",
              "    [theme=dark] .colab-df-convert:hover {\n",
              "      background-color: #434B5C;\n",
              "      box-shadow: 0px 1px 3px 1px rgba(0, 0, 0, 0.15);\n",
              "      filter: drop-shadow(0px 1px 2px rgba(0, 0, 0, 0.3));\n",
              "      fill: #FFFFFF;\n",
              "    }\n",
              "  </style>\n",
              "\n",
              "    <script>\n",
              "      const buttonEl =\n",
              "        document.querySelector('#df-970b03d5-3484-4967-8997-4e30c3fe95a7 button.colab-df-convert');\n",
              "      buttonEl.style.display =\n",
              "        google.colab.kernel.accessAllowed ? 'block' : 'none';\n",
              "\n",
              "      async function convertToInteractive(key) {\n",
              "        const element = document.querySelector('#df-970b03d5-3484-4967-8997-4e30c3fe95a7');\n",
              "        const dataTable =\n",
              "          await google.colab.kernel.invokeFunction('convertToInteractive',\n",
              "                                                    [key], {});\n",
              "        if (!dataTable) return;\n",
              "\n",
              "        const docLinkHtml = 'Like what you see? Visit the ' +\n",
              "          '<a target=\"_blank\" href=https://colab.research.google.com/notebooks/data_table.ipynb>data table notebook</a>'\n",
              "          + ' to learn more about interactive tables.';\n",
              "        element.innerHTML = '';\n",
              "        dataTable['output_type'] = 'display_data';\n",
              "        await google.colab.output.renderOutput(dataTable, element);\n",
              "        const docLink = document.createElement('div');\n",
              "        docLink.innerHTML = docLinkHtml;\n",
              "        element.appendChild(docLink);\n",
              "      }\n",
              "    </script>\n",
              "  </div>\n",
              "\n",
              "\n",
              "<div id=\"df-842bbaf2-22e1-467d-85b3-4a3140afaf5f\">\n",
              "  <button class=\"colab-df-quickchart\" onclick=\"quickchart('df-842bbaf2-22e1-467d-85b3-4a3140afaf5f')\"\n",
              "            title=\"Suggest charts\"\n",
              "            style=\"display:none;\">\n",
              "\n",
              "<svg xmlns=\"http://www.w3.org/2000/svg\" height=\"24px\"viewBox=\"0 0 24 24\"\n",
              "     width=\"24px\">\n",
              "    <g>\n",
              "        <path d=\"M19 3H5c-1.1 0-2 .9-2 2v14c0 1.1.9 2 2 2h14c1.1 0 2-.9 2-2V5c0-1.1-.9-2-2-2zM9 17H7v-7h2v7zm4 0h-2V7h2v10zm4 0h-2v-4h2v4z\"/>\n",
              "    </g>\n",
              "</svg>\n",
              "  </button>\n",
              "\n",
              "<style>\n",
              "  .colab-df-quickchart {\n",
              "      --bg-color: #E8F0FE;\n",
              "      --fill-color: #1967D2;\n",
              "      --hover-bg-color: #E2EBFA;\n",
              "      --hover-fill-color: #174EA6;\n",
              "      --disabled-fill-color: #AAA;\n",
              "      --disabled-bg-color: #DDD;\n",
              "  }\n",
              "\n",
              "  [theme=dark] .colab-df-quickchart {\n",
              "      --bg-color: #3B4455;\n",
              "      --fill-color: #D2E3FC;\n",
              "      --hover-bg-color: #434B5C;\n",
              "      --hover-fill-color: #FFFFFF;\n",
              "      --disabled-bg-color: #3B4455;\n",
              "      --disabled-fill-color: #666;\n",
              "  }\n",
              "\n",
              "  .colab-df-quickchart {\n",
              "    background-color: var(--bg-color);\n",
              "    border: none;\n",
              "    border-radius: 50%;\n",
              "    cursor: pointer;\n",
              "    display: none;\n",
              "    fill: var(--fill-color);\n",
              "    height: 32px;\n",
              "    padding: 0;\n",
              "    width: 32px;\n",
              "  }\n",
              "\n",
              "  .colab-df-quickchart:hover {\n",
              "    background-color: var(--hover-bg-color);\n",
              "    box-shadow: 0 1px 2px rgba(60, 64, 67, 0.3), 0 1px 3px 1px rgba(60, 64, 67, 0.15);\n",
              "    fill: var(--button-hover-fill-color);\n",
              "  }\n",
              "\n",
              "  .colab-df-quickchart-complete:disabled,\n",
              "  .colab-df-quickchart-complete:disabled:hover {\n",
              "    background-color: var(--disabled-bg-color);\n",
              "    fill: var(--disabled-fill-color);\n",
              "    box-shadow: none;\n",
              "  }\n",
              "\n",
              "  .colab-df-spinner {\n",
              "    border: 2px solid var(--fill-color);\n",
              "    border-color: transparent;\n",
              "    border-bottom-color: var(--fill-color);\n",
              "    animation:\n",
              "      spin 1s steps(1) infinite;\n",
              "  }\n",
              "\n",
              "  @keyframes spin {\n",
              "    0% {\n",
              "      border-color: transparent;\n",
              "      border-bottom-color: var(--fill-color);\n",
              "      border-left-color: var(--fill-color);\n",
              "    }\n",
              "    20% {\n",
              "      border-color: transparent;\n",
              "      border-left-color: var(--fill-color);\n",
              "      border-top-color: var(--fill-color);\n",
              "    }\n",
              "    30% {\n",
              "      border-color: transparent;\n",
              "      border-left-color: var(--fill-color);\n",
              "      border-top-color: var(--fill-color);\n",
              "      border-right-color: var(--fill-color);\n",
              "    }\n",
              "    40% {\n",
              "      border-color: transparent;\n",
              "      border-right-color: var(--fill-color);\n",
              "      border-top-color: var(--fill-color);\n",
              "    }\n",
              "    60% {\n",
              "      border-color: transparent;\n",
              "      border-right-color: var(--fill-color);\n",
              "    }\n",
              "    80% {\n",
              "      border-color: transparent;\n",
              "      border-right-color: var(--fill-color);\n",
              "      border-bottom-color: var(--fill-color);\n",
              "    }\n",
              "    90% {\n",
              "      border-color: transparent;\n",
              "      border-bottom-color: var(--fill-color);\n",
              "    }\n",
              "  }\n",
              "</style>\n",
              "\n",
              "  <script>\n",
              "    async function quickchart(key) {\n",
              "      const quickchartButtonEl =\n",
              "        document.querySelector('#' + key + ' button');\n",
              "      quickchartButtonEl.disabled = true;  // To prevent multiple clicks.\n",
              "      quickchartButtonEl.classList.add('colab-df-spinner');\n",
              "      try {\n",
              "        const charts = await google.colab.kernel.invokeFunction(\n",
              "            'suggestCharts', [key], {});\n",
              "      } catch (error) {\n",
              "        console.error('Error during call to suggestCharts:', error);\n",
              "      }\n",
              "      quickchartButtonEl.classList.remove('colab-df-spinner');\n",
              "      quickchartButtonEl.classList.add('colab-df-quickchart-complete');\n",
              "    }\n",
              "    (() => {\n",
              "      let quickchartButtonEl =\n",
              "        document.querySelector('#df-842bbaf2-22e1-467d-85b3-4a3140afaf5f button');\n",
              "      quickchartButtonEl.style.display =\n",
              "        google.colab.kernel.accessAllowed ? 'block' : 'none';\n",
              "    })();\n",
              "  </script>\n",
              "</div>\n",
              "\n",
              "    </div>\n",
              "  </div>\n"
            ],
            "application/vnd.google.colaboratory.intrinsic+json": {
              "type": "dataframe",
              "summary": "{\n  \"name\": \"df\",\n  \"rows\": 8,\n  \"fields\": [\n    {\n      \"column\": \"Days\",\n      \"properties\": {\n        \"dtype\": \"number\",\n        \"std\": 117.29577949550485,\n        \"min\": 14.0,\n        \"max\": 365.0,\n        \"num_unique_values\": 8,\n        \"samples\": [\n          76.6875,\n          28.0,\n          16.0\n        ],\n        \"semantic_type\": \"\",\n        \"description\": \"\"\n      }\n    },\n    {\n      \"column\": \"Price\",\n      \"properties\": {\n        \"dtype\": \"number\",\n        \"std\": 926.9314129840348,\n        \"min\": 16.0,\n        \"max\": 2879.0,\n        \"num_unique_values\": 8,\n        \"samples\": [\n          663.8125,\n          279.0,\n          16.0\n        ],\n        \"semantic_type\": \"\",\n        \"description\": \"\"\n      }\n    },\n    {\n      \"column\": \"Price/Day\",\n      \"properties\": {\n        \"dtype\": \"number\",\n        \"std\": 4.338402476381053,\n        \"min\": 2.3206583805288337,\n        \"max\": 16.0,\n        \"num_unique_values\": 8,\n        \"samples\": [\n          9.3061668871875,\n          8.5446428575,\n          16.0\n        ],\n        \"semantic_type\": \"\",\n        \"description\": \"\"\n      }\n    },\n    {\n      \"column\": \"For 365 Days\",\n      \"properties\": {\n        \"dtype\": \"number\",\n        \"std\": 1677.7903596627493,\n        \"min\": 16.0,\n        \"max\": 5461.964286,\n        \"num_unique_values\": 8,\n        \"samples\": [\n          3396.7509138125,\n          3118.7946425,\n          16.0\n        ],\n        \"semantic_type\": \"\",\n        \"description\": \"\"\n      }\n    },\n    {\n      \"column\": \"Profit per customer\",\n      \"properties\": {\n        \"dtype\": \"number\",\n        \"std\": 351.7127066384945,\n        \"min\": 0.0,\n        \"max\": 1072.521739,\n        \"num_unique_values\": 8,\n        \"samples\": [\n          306.3612189050625,\n          294.9330357,\n          16.0\n        ],\n        \"semantic_type\": \"\",\n        \"description\": \"\"\n      }\n    },\n    {\n      \"column\": \"From 400 Million users\",\n      \"properties\": {\n        \"dtype\": \"number\",\n        \"std\": 141445.89546134515,\n        \"min\": 0.0,\n        \"max\": 429008.6957,\n        \"num_unique_values\": 8,\n        \"samples\": [\n          122544.48758643749,\n          117973.21429999999,\n          16.0\n        ],\n        \"semantic_type\": \"\",\n        \"description\": \"\"\n      }\n    },\n    {\n      \"column\": \"Data_per_day\",\n      \"properties\": {\n        \"dtype\": \"number\",\n        \"std\": 5.133900926606199,\n        \"min\": 0.6046693311223912,\n        \"max\": 16.0,\n        \"num_unique_values\": 7,\n        \"samples\": [\n          16.0,\n          1.71875,\n          2.0\n        ],\n        \"semantic_type\": \"\",\n        \"description\": \"\"\n      }\n    }\n  ]\n}"
            }
          },
          "metadata": {},
          "execution_count": 28
        }
      ],
      "source": [
        "df.describe()"
      ]
    },
    {
      "cell_type": "code",
      "execution_count": null,
      "id": "86630e56",
      "metadata": {
        "execution": {
          "iopub.execute_input": "2022-07-06T03:03:23.971075Z",
          "iopub.status.busy": "2022-07-06T03:03:23.970328Z",
          "iopub.status.idle": "2022-07-06T03:03:23.977788Z",
          "shell.execute_reply": "2022-07-06T03:03:23.976793Z"
        },
        "papermill": {
          "duration": 0.021778,
          "end_time": "2022-07-06T03:03:23.980025",
          "exception": false,
          "start_time": "2022-07-06T03:03:23.958247",
          "status": "completed"
        },
        "tags": [],
        "colab": {
          "base_uri": "https://localhost:8080/"
        },
        "id": "86630e56",
        "outputId": "3cc2c8f5-de79-4c0c-d998-403fa438327d"
      },
      "outputs": [
        {
          "output_type": "execute_result",
          "data": {
            "text/plain": [
              "Index(['Days', 'Price', 'Price/Day', 'For 365 Days', 'Profit per customer',\n",
              "       'From 400 Million users', 'Data_per_day'],\n",
              "      dtype='object')"
            ]
          },
          "metadata": {},
          "execution_count": 29
        }
      ],
      "source": [
        "df.columns"
      ]
    },
    {
      "cell_type": "code",
      "execution_count": null,
      "id": "8e8a7903",
      "metadata": {
        "execution": {
          "iopub.execute_input": "2022-07-06T03:03:24.021819Z",
          "iopub.status.busy": "2022-07-06T03:03:24.021157Z",
          "iopub.status.idle": "2022-07-06T03:03:24.028297Z",
          "shell.execute_reply": "2022-07-06T03:03:24.027361Z"
        },
        "papermill": {
          "duration": 0.02133,
          "end_time": "2022-07-06T03:03:24.031190",
          "exception": false,
          "start_time": "2022-07-06T03:03:24.009860",
          "status": "completed"
        },
        "tags": [],
        "colab": {
          "base_uri": "https://localhost:8080/"
        },
        "id": "8e8a7903",
        "outputId": "ac14498b-7b27-47c5-ec15-46fc0e2f843d"
      },
      "outputs": [
        {
          "output_type": "stream",
          "name": "stdout",
          "text": [
            "1072.521739\n",
            "Plan with max profit is 23 days plan\n"
          ]
        }
      ],
      "source": [
        "#Max profit per customer\n",
        "\n",
        "max_prof = df['Profit per customer'].max()\n",
        "print(max_prof)\n",
        "max_profit_plan = df.loc[df['Profit per customer'] == max_prof, 'Days'].iloc[0]\n",
        "\n",
        "print('Plan with max profit is {} days plan'.format(max_profit_plan))\n"
      ]
    },
    {
      "cell_type": "code",
      "execution_count": null,
      "id": "1df3a22e",
      "metadata": {
        "execution": {
          "iopub.execute_input": "2022-07-06T03:03:24.054469Z",
          "iopub.status.busy": "2022-07-06T03:03:24.053823Z",
          "iopub.status.idle": "2022-07-06T03:03:24.060556Z",
          "shell.execute_reply": "2022-07-06T03:03:24.059856Z"
        },
        "papermill": {
          "duration": 0.021948,
          "end_time": "2022-07-06T03:03:24.063428",
          "exception": false,
          "start_time": "2022-07-06T03:03:24.041480",
          "status": "completed"
        },
        "tags": [],
        "colab": {
          "base_uri": "https://localhost:8080/"
        },
        "id": "1df3a22e",
        "outputId": "7140d9c0-71f4-41c5-e1dc-2aaced86557e"
      },
      "outputs": [
        {
          "output_type": "stream",
          "name": "stdout",
          "text": [
            "429008.6957\n",
            "Plan with max profit wrt 400M users is 23 days plan\n"
          ]
        }
      ],
      "source": [
        "#Let's check if its true for 400million customers\n",
        "\n",
        "max_prof_400M = df['From 400 Million users'].max()\n",
        "print(max_prof_400M)\n",
        "max_profit_plan = df.loc[df['From 400 Million users'] == max_prof_400M, 'Days'].iloc[0]\n",
        "\n",
        "print('Plan with max profit wrt 400M users is {} days plan'.format(max_profit_plan))\n"
      ]
    },
    {
      "cell_type": "code",
      "execution_count": null,
      "id": "5397dea0",
      "metadata": {
        "execution": {
          "iopub.execute_input": "2022-07-06T03:03:24.086760Z",
          "iopub.status.busy": "2022-07-06T03:03:24.086175Z",
          "iopub.status.idle": "2022-07-06T03:03:24.092788Z",
          "shell.execute_reply": "2022-07-06T03:03:24.091896Z"
        },
        "papermill": {
          "duration": 0.020583,
          "end_time": "2022-07-06T03:03:24.094887",
          "exception": false,
          "start_time": "2022-07-06T03:03:24.074304",
          "status": "completed"
        },
        "tags": [],
        "colab": {
          "base_uri": "https://localhost:8080/"
        },
        "id": "5397dea0",
        "outputId": "a8962deb-e09c-445b-e532-2a6211f901f7"
      },
      "outputs": [
        {
          "output_type": "execute_result",
          "data": {
            "text/plain": [
              "1960711.8013829999"
            ]
          },
          "metadata": {},
          "execution_count": 32
        }
      ],
      "source": [
        "#Total money from 400 Million Users in a year\n",
        "total = df['From 400 Million users'].sum()\n",
        "total"
      ]
    },
    {
      "cell_type": "code",
      "execution_count": null,
      "id": "a7c77b70",
      "metadata": {
        "execution": {
          "iopub.execute_input": "2022-07-06T03:03:24.119165Z",
          "iopub.status.busy": "2022-07-06T03:03:24.118147Z",
          "iopub.status.idle": "2022-07-06T03:03:24.127581Z",
          "shell.execute_reply": "2022-07-06T03:03:24.126399Z"
        },
        "papermill": {
          "duration": 0.02491,
          "end_time": "2022-07-06T03:03:24.130231",
          "exception": false,
          "start_time": "2022-07-06T03:03:24.105321",
          "status": "completed"
        },
        "tags": [],
        "colab": {
          "base_uri": "https://localhost:8080/"
        },
        "id": "a7c77b70",
        "outputId": "aba36a2b-61e0-46e9-986f-f11d3f1b3bf1"
      },
      "outputs": [
        {
          "output_type": "stream",
          "name": "stdout",
          "text": [
            "min price per day 7.45\n",
            "Cheapest Plan per day 20\n",
            "Profit Jio makes at its cheapest plan  0.0\n"
          ]
        }
      ],
      "source": [
        "#Find cheapest plan using price per day\n",
        "\n",
        "#min price per day\n",
        "Least_price = df['Price/Day'].min()\n",
        "print('min price per day', Least_price)\n",
        "\n",
        "#Cheapest plan\n",
        "Cheapest_plan = df.loc[df['Price/Day'] == Least_price, 'Days'].iloc[0]\n",
        "print('Cheapest Plan per day', Cheapest_plan)\n",
        "\n",
        "#Profit from Cheapest plan\n",
        "Profit_min = df.loc[df['Days'] == Cheapest_plan, 'Profit per customer'].iloc[0]\n",
        "print('Profit Jio makes at its cheapest plan ', Profit_min)"
      ]
    },
    {
      "cell_type": "markdown",
      "id": "eefd5b29",
      "metadata": {
        "papermill": {
          "duration": 0.010321,
          "end_time": "2022-07-06T03:03:24.151161",
          "exception": false,
          "start_time": "2022-07-06T03:03:24.140840",
          "status": "completed"
        },
        "tags": [],
        "id": "eefd5b29"
      },
      "source": [
        "Means 20 day plan is the cheapest plan which costs just Rs 7.45 per day to the customer has zero profits for the company"
      ]
    },
    {
      "cell_type": "code",
      "execution_count": null,
      "id": "7561a2e3",
      "metadata": {
        "execution": {
          "iopub.execute_input": "2022-07-06T03:03:24.174527Z",
          "iopub.status.busy": "2022-07-06T03:03:24.173536Z",
          "iopub.status.idle": "2022-07-06T03:03:24.182215Z",
          "shell.execute_reply": "2022-07-06T03:03:24.181191Z"
        },
        "papermill": {
          "duration": 0.022937,
          "end_time": "2022-07-06T03:03:24.184558",
          "exception": false,
          "start_time": "2022-07-06T03:03:24.161621",
          "status": "completed"
        },
        "tags": [],
        "colab": {
          "base_uri": "https://localhost:8080/"
        },
        "id": "7561a2e3",
        "outputId": "b9eb5166-fb97-4a90-c028-c60d46377dbb"
      },
      "outputs": [
        {
          "output_type": "stream",
          "name": "stdout",
          "text": [
            "Max Tennure plan 365\n",
            "Price for 365 days plan 2879.0\n"
          ]
        }
      ],
      "source": [
        "#Let's check how much would people be paying if they go for max days plan (365 days)\n",
        "\n",
        "#Find the max tennure plan\n",
        "max_tennure = df['Days'].max()\n",
        "print('Max Tennure plan', max_tennure)\n",
        "\n",
        "#what price do people pay and what do they get\n",
        "price_max = df.loc[df['Days'] == max_tennure, 'For 365 Days'].iloc[0]\n",
        "print('Price for 365 days plan', price_max)"
      ]
    },
    {
      "cell_type": "code",
      "execution_count": null,
      "id": "b179e398",
      "metadata": {
        "execution": {
          "iopub.execute_input": "2022-07-06T03:03:24.207468Z",
          "iopub.status.busy": "2022-07-06T03:03:24.206394Z",
          "iopub.status.idle": "2022-07-06T03:03:24.214464Z",
          "shell.execute_reply": "2022-07-06T03:03:24.212982Z"
        },
        "papermill": {
          "duration": 0.022117,
          "end_time": "2022-07-06T03:03:24.217071",
          "exception": false,
          "start_time": "2022-07-06T03:03:24.194954",
          "status": "completed"
        },
        "tags": [],
        "colab": {
          "base_uri": "https://localhost:8080/"
        },
        "id": "b179e398",
        "outputId": "83e9b1b7-b4dd-4f38-a8b0-13e8a013de3b"
      },
      "outputs": [
        {
          "output_type": "stream",
          "name": "stdout",
          "text": [
            "Profit from 365 days plan 0.0\n"
          ]
        }
      ],
      "source": [
        "#Let's see how much profit Jio makes per customer around 365 day plan\n",
        "\n",
        "Profit_max = (df.loc[df['For 365 Days'] == price_max, 'From 400 Million users']).iloc[0]\n",
        "print('Profit from 365 days plan', Profit_max)"
      ]
    },
    {
      "cell_type": "markdown",
      "id": "8c4ea002",
      "metadata": {
        "papermill": {
          "duration": 0.00743,
          "end_time": "2022-07-06T03:03:24.231926",
          "exception": false,
          "start_time": "2022-07-06T03:03:24.224496",
          "status": "completed"
        },
        "tags": [],
        "id": "8c4ea002"
      },
      "source": [
        "This shows that the max"
      ]
    },
    {
      "cell_type": "code",
      "execution_count": null,
      "id": "06829a67",
      "metadata": {
        "execution": {
          "iopub.execute_input": "2022-07-06T03:03:24.247950Z",
          "iopub.status.busy": "2022-07-06T03:03:24.247513Z",
          "iopub.status.idle": "2022-07-06T03:03:24.255096Z",
          "shell.execute_reply": "2022-07-06T03:03:24.253251Z"
        },
        "papermill": {
          "duration": 0.018235,
          "end_time": "2022-07-06T03:03:24.257372",
          "exception": false,
          "start_time": "2022-07-06T03:03:24.239137",
          "status": "completed"
        },
        "tags": [],
        "colab": {
          "base_uri": "https://localhost:8080/"
        },
        "id": "06829a67",
        "outputId": "26a3310c-378b-40fd-9d93-58e7dd38e111"
      },
      "outputs": [
        {
          "output_type": "stream",
          "name": "stdout",
          "text": [
            "Max data plan 3.0 GB\n"
          ]
        }
      ],
      "source": [
        "#Check for Max data\n",
        "\n",
        "max_dataplan = df['Data_per_day'].max()\n",
        "print('Max data plan {} GB'.format(max_dataplan))"
      ]
    },
    {
      "cell_type": "code",
      "execution_count": null,
      "id": "32c8ff9f",
      "metadata": {
        "execution": {
          "iopub.execute_input": "2022-07-06T03:03:24.274405Z",
          "iopub.status.busy": "2022-07-06T03:03:24.273089Z",
          "iopub.status.idle": "2022-07-06T03:03:24.279456Z",
          "shell.execute_reply": "2022-07-06T03:03:24.278461Z"
        },
        "papermill": {
          "duration": 0.017619,
          "end_time": "2022-07-06T03:03:24.282156",
          "exception": false,
          "start_time": "2022-07-06T03:03:24.264537",
          "status": "completed"
        },
        "tags": [],
        "colab": {
          "base_uri": "https://localhost:8080/"
        },
        "id": "32c8ff9f",
        "outputId": "f934af72-af1d-4cda-fccd-fdee2210e5e2"
      },
      "outputs": [
        {
          "output_type": "stream",
          "name": "stdout",
          "text": [
            "Min data plan 1.0 GB\n"
          ]
        }
      ],
      "source": [
        "#Let's check for min data plan\n",
        "min_dataplan = df['Data_per_day'].min()\n",
        "print('Min data plan {} GB'.format(min_dataplan))"
      ]
    },
    {
      "cell_type": "markdown",
      "source": [],
      "metadata": {
        "id": "7MqsaJ4mdnPB"
      },
      "id": "7MqsaJ4mdnPB"
    },
    {
      "cell_type": "code",
      "execution_count": null,
      "id": "c1271f2d",
      "metadata": {
        "execution": {
          "iopub.execute_input": "2022-07-06T03:03:24.312967Z",
          "iopub.status.busy": "2022-07-06T03:03:24.311677Z",
          "iopub.status.idle": "2022-07-06T03:03:24.318220Z",
          "shell.execute_reply": "2022-07-06T03:03:24.316182Z"
        },
        "papermill": {
          "duration": 0.017511,
          "end_time": "2022-07-06T03:03:24.320955",
          "exception": false,
          "start_time": "2022-07-06T03:03:24.303444",
          "status": "completed"
        },
        "tags": [],
        "id": "c1271f2d"
      },
      "outputs": [],
      "source": [
        "import matplotlib.pyplot as plt\n"
      ]
    },
    {
      "cell_type": "code",
      "execution_count": null,
      "id": "5a43b8eb",
      "metadata": {
        "execution": {
          "iopub.execute_input": "2022-07-06T03:03:24.337449Z",
          "iopub.status.busy": "2022-07-06T03:03:24.336798Z",
          "iopub.status.idle": "2022-07-06T03:03:24.599525Z",
          "shell.execute_reply": "2022-07-06T03:03:24.596775Z"
        },
        "papermill": {
          "duration": 0.274539,
          "end_time": "2022-07-06T03:03:24.602863",
          "exception": false,
          "start_time": "2022-07-06T03:03:24.328324",
          "status": "completed"
        },
        "tags": [],
        "colab": {
          "base_uri": "https://localhost:8080/",
          "height": 447
        },
        "id": "5a43b8eb",
        "outputId": "44b4068a-254d-41f3-8ebb-9cc6663f6847"
      },
      "outputs": [
        {
          "output_type": "execute_result",
          "data": {
            "text/plain": [
              "<matplotlib.legend.Legend at 0x7c20f44b5c90>"
            ]
          },
          "metadata": {},
          "execution_count": 39
        },
        {
          "output_type": "display_data",
          "data": {
            "text/plain": [
              "<Figure size 640x480 with 1 Axes>"
            ],
            "image/png": "[encoded data removed]"
          },
          "metadata": {}
        }
      ],
      "source": [
        "# Let's check which data plan has max users\n",
        "\n",
        "df.Data_per_day.plot(kind = 'hist', color = 'olive')\n",
        "plt.legend()"
      ]
    },
    {
      "cell_type": "markdown",
      "id": "f126e1ed",
      "metadata": {
        "papermill": {
          "duration": 0.006917,
          "end_time": "2022-07-06T03:03:24.617334",
          "exception": false,
          "start_time": "2022-07-06T03:03:24.610417",
          "status": "completed"
        },
        "tags": [],
        "id": "f126e1ed"
      },
      "source": [
        "From above histogram we can infer that 1.50 Gb data plan is the most popular one."
      ]
    },
    {
      "cell_type": "code",
      "execution_count": null,
      "id": "d0695b38",
      "metadata": {
        "execution": {
          "iopub.execute_input": "2022-07-06T03:03:24.634438Z",
          "iopub.status.busy": "2022-07-06T03:03:24.634112Z",
          "iopub.status.idle": "2022-07-06T03:03:24.875464Z",
          "shell.execute_reply": "2022-07-06T03:03:24.874782Z"
        },
        "papermill": {
          "duration": 0.252329,
          "end_time": "2022-07-06T03:03:24.877803",
          "exception": false,
          "start_time": "2022-07-06T03:03:24.625474",
          "status": "completed"
        },
        "tags": [],
        "colab": {
          "base_uri": "https://localhost:8080/",
          "height": 612
        },
        "id": "d0695b38",
        "outputId": "f8590aa4-3553-4d0b-989b-c049cc3deb2f"
      },
      "outputs": [
        {
          "output_type": "display_data",
          "data": {
            "text/plain": [
              "<Figure size 900x800 with 1 Axes>"
            ],
            "image/png": "[encoded data removed]"
          },
          "metadata": {}
        }
      ],
      "source": [
        "#Plot for how much data user gets for each plan\n",
        "\n",
        "df.plot(x=\"Days\", y=\"Data_per_day\", kind=\"bar\", figsize=(9, 8), color = 'lightcoral')\n",
        "plt.show()"
      ]
    },
    {
      "cell_type": "markdown",
      "id": "7d8b1d67",
      "metadata": {
        "papermill": {
          "duration": 0.011896,
          "end_time": "2022-07-06T03:03:24.901504",
          "exception": false,
          "start_time": "2022-07-06T03:03:24.889608",
          "status": "completed"
        },
        "tags": [],
        "id": "7d8b1d67"
      },
      "source": [
        "There are 4 entries for 28 days plan, 2 entries for 56 and 84 days plan, i.e these 3 plans come with options of different data plans.\n"
      ]
    },
    {
      "cell_type": "code",
      "execution_count": null,
      "id": "a956a337",
      "metadata": {
        "execution": {
          "iopub.execute_input": "2022-07-06T03:03:24.927302Z",
          "iopub.status.busy": "2022-07-06T03:03:24.926755Z",
          "iopub.status.idle": "2022-07-06T03:03:25.081621Z",
          "shell.execute_reply": "2022-07-06T03:03:25.080385Z"
        },
        "papermill": {
          "duration": 0.170909,
          "end_time": "2022-07-06T03:03:25.084457",
          "exception": false,
          "start_time": "2022-07-06T03:03:24.913548",
          "status": "completed"
        },
        "tags": [],
        "colab": {
          "base_uri": "https://localhost:8080/",
          "height": 516
        },
        "id": "a956a337",
        "outputId": "4b01e0c2-33ef-4362-c7bc-172156e1ea5f"
      },
      "outputs": [
        {
          "output_type": "execute_result",
          "data": {
            "text/plain": [
              "<Axes: ylabel='count'>"
            ]
          },
          "metadata": {},
          "execution_count": 41
        },
        {
          "output_type": "display_data",
          "data": {
            "text/plain": [
              "<Figure size 600x600 with 1 Axes>"
            ],
            "image/png": "[encoded data removed]"
          },
          "metadata": {}
        }
      ],
      "source": [
        "#Plot for profit per customer\n",
        "\n",
        "df['Profit per customer'].value_counts().head(20).plot(kind = 'pie', figsize = (6,6))"
      ]
    },
    {
      "cell_type": "markdown",
      "id": "373ad311",
      "metadata": {
        "papermill": {
          "duration": 0.015176,
          "end_time": "2022-07-06T03:03:25.114559",
          "exception": false,
          "start_time": "2022-07-06T03:03:25.099383",
          "status": "completed"
        },
        "tags": [],
        "id": "373ad311"
      },
      "source": [
        "About 1/4th part of total plot is 0.0."
      ]
    },
    {
      "cell_type": "code",
      "execution_count": null,
      "id": "9b2f629c",
      "metadata": {
        "execution": {
          "iopub.execute_input": "2022-07-06T03:03:25.146995Z",
          "iopub.status.busy": "2022-07-06T03:03:25.146235Z",
          "iopub.status.idle": "2022-07-06T03:03:26.665960Z",
          "shell.execute_reply": "2022-07-06T03:03:26.664524Z"
        },
        "papermill": {
          "duration": 1.538713,
          "end_time": "2022-07-06T03:03:26.668359",
          "exception": false,
          "start_time": "2022-07-06T03:03:25.129646",
          "status": "completed"
        },
        "tags": [],
        "colab": {
          "base_uri": "https://localhost:8080/",
          "height": 251
        },
        "id": "9b2f629c",
        "outputId": "191195ae-7d75-45a0-8c31-1dc90e0458ba"
      },
      "outputs": [
        {
          "output_type": "execute_result",
          "data": {
            "text/plain": [
              "<Axes: xlabel='Days', ylabel='Profit per customer'>"
            ]
          },
          "metadata": {},
          "execution_count": 42
        },
        {
          "output_type": "display_data",
          "data": {
            "text/plain": [
              "<Figure size 2500x800 with 1 Axes>"
            ],
            "image/png": "[encoded data removed]"
          },
          "metadata": {}
        }
      ],
      "source": [
        "#How many days plan yields max profit per user\n",
        "import seaborn as sns\n",
        "plt.figure(figsize = (25,8))\n",
        "sns.barplot(x = 'Days', y = 'Profit per customer', data = df)"
      ]
    },
    {
      "cell_type": "markdown",
      "id": "89fe6b3a",
      "metadata": {
        "papermill": {
          "duration": 0.008018,
          "end_time": "2022-07-06T03:03:26.685048",
          "exception": false,
          "start_time": "2022-07-06T03:03:26.677030",
          "status": "completed"
        },
        "tags": [],
        "id": "89fe6b3a"
      },
      "source": [
        " 23 days plan yields max profit per customer"
      ]
    },
    {
      "cell_type": "markdown",
      "source": [],
      "metadata": {
        "id": "VZssbosYd1ge"
      },
      "id": "VZssbosYd1ge"
    }
  ],
  "metadata": {
    "kernelspec": {
      "display_name": "Python 3",
      "language": "python",
      "name": "python3"
    },
    "language_info": {
      "codemirror_mode": {
        "name": "ipython",
        "version": 3
      },
      "file_extension": ".py",
      "mimetype": "text/x-python",
      "name": "python",
      "nbconvert_exporter": "python",
      "pygments_lexer": "ipython3",
      "version": "3.7.12"
    },
    "papermill": {
      "default_parameters": {},
      "duration": 13.083056,
      "end_time": "2022-07-06T03:03:27.731193",
      "environment_variables": {},
      "exception": null,
      "input_path": "__notebook__.ipynb",
      "output_path": "__notebook__.ipynb",
      "parameters": {},
      "start_time": "2022-07-06T03:03:14.648137",
      "version": "2.3.4"
    },
    "colab": {
      "provenance": [],
      "include_colab_link": true
    }
  },
  "nbformat": 4,
  "nbformat_minor": 5
}